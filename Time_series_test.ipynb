{
  "nbformat": 4,
  "nbformat_minor": 0,
  "metadata": {
    "colab": {
      "provenance": [],
      "authorship_tag": "ABX9TyNd2KSJCjZQGMw6j+k87+Zc",
      "include_colab_link": true
    },
    "kernelspec": {
      "name": "python3",
      "display_name": "Python 3"
    },
    "language_info": {
      "name": "python"
    }
  },
  "cells": [
    {
      "cell_type": "markdown",
      "metadata": {
        "id": "view-in-github",
        "colab_type": "text"
      },
      "source": [
        "<a href=\"https://colab.research.google.com/github/Ben-Costa/Research_Fall_2022_AutoML/blob/main/Time_series_test.ipynb\" target=\"_parent\"><img src=\"https://colab.research.google.com/assets/colab-badge.svg\" alt=\"Open In Colab\"/></a>"
      ]
    },
    {
      "cell_type": "code",
      "execution_count": null,
      "metadata": {
        "colab": {
          "base_uri": "https://localhost:8080/"
        },
        "id": "9N0pNYu3puZV",
        "outputId": "f39dab98-fdfc-4b3a-df15-1e863e345d64"
      },
      "outputs": [
        {
          "output_type": "stream",
          "name": "stdout",
          "text": [
            "Looking in indexes: https://pypi.org/simple, https://us-python.pkg.dev/colab-wheels/public/simple/\n",
            "Requirement already satisfied: sktime in /usr/local/lib/python3.7/dist-packages (0.13.4)\n",
            "Requirement already satisfied: scikit-learn<1.2.0,>=0.24.0 in /usr/local/lib/python3.7/dist-packages (from sktime) (1.0.2)\n",
            "Requirement already satisfied: scipy<1.9.0 in /usr/local/lib/python3.7/dist-packages (from sktime) (1.7.3)\n",
            "Requirement already satisfied: statsmodels>=0.12.1 in /usr/local/lib/python3.7/dist-packages (from sktime) (0.12.2)\n",
            "Requirement already satisfied: pandas<1.6.0,>=1.1.0 in /usr/local/lib/python3.7/dist-packages (from sktime) (1.3.5)\n",
            "Requirement already satisfied: deprecated>=1.2.13 in /usr/local/lib/python3.7/dist-packages (from sktime) (1.2.13)\n",
            "Requirement already satisfied: numba>=0.53 in /usr/local/lib/python3.7/dist-packages (from sktime) (0.56.3)\n",
            "Requirement already satisfied: numpy<1.23,>=1.21.0 in /usr/local/lib/python3.7/dist-packages (from sktime) (1.21.6)\n",
            "Requirement already satisfied: wrapt<2,>=1.10 in /usr/local/lib/python3.7/dist-packages (from deprecated>=1.2.13->sktime) (1.14.1)\n",
            "Requirement already satisfied: importlib-metadata in /usr/local/lib/python3.7/dist-packages (from numba>=0.53->sktime) (4.13.0)\n",
            "Requirement already satisfied: setuptools in /usr/local/lib/python3.7/dist-packages (from numba>=0.53->sktime) (57.4.0)\n",
            "Requirement already satisfied: llvmlite<0.40,>=0.39.0dev0 in /usr/local/lib/python3.7/dist-packages (from numba>=0.53->sktime) (0.39.1)\n",
            "Requirement already satisfied: python-dateutil>=2.7.3 in /usr/local/lib/python3.7/dist-packages (from pandas<1.6.0,>=1.1.0->sktime) (2.8.2)\n",
            "Requirement already satisfied: pytz>=2017.3 in /usr/local/lib/python3.7/dist-packages (from pandas<1.6.0,>=1.1.0->sktime) (2022.5)\n",
            "Requirement already satisfied: six>=1.5 in /usr/local/lib/python3.7/dist-packages (from python-dateutil>=2.7.3->pandas<1.6.0,>=1.1.0->sktime) (1.15.0)\n",
            "Requirement already satisfied: threadpoolctl>=2.0.0 in /usr/local/lib/python3.7/dist-packages (from scikit-learn<1.2.0,>=0.24.0->sktime) (3.1.0)\n",
            "Requirement already satisfied: joblib>=0.11 in /usr/local/lib/python3.7/dist-packages (from scikit-learn<1.2.0,>=0.24.0->sktime) (1.2.0)\n",
            "Requirement already satisfied: patsy>=0.5 in /usr/local/lib/python3.7/dist-packages (from statsmodels>=0.12.1->sktime) (0.5.3)\n",
            "Requirement already satisfied: zipp>=0.5 in /usr/local/lib/python3.7/dist-packages (from importlib-metadata->numba>=0.53->sktime) (3.10.0)\n",
            "Requirement already satisfied: typing-extensions>=3.6.4 in /usr/local/lib/python3.7/dist-packages (from importlib-metadata->numba>=0.53->sktime) (4.1.1)\n"
          ]
        }
      ],
      "source": [
        "pip install sktime"
      ]
    },
    {
      "cell_type": "code",
      "source": [
        "pip install autoPyTorch[forecasting]"
      ],
      "metadata": {
        "colab": {
          "base_uri": "https://localhost:8080/",
          "height": 1000
        },
        "id": "SVpwZMWjrbNr",
        "outputId": "9f398a47-0b27-4fd2-e498-d1233e8774d9"
      },
      "execution_count": null,
      "outputs": [
        {
          "output_type": "stream",
          "name": "stdout",
          "text": [
            "Looking in indexes: https://pypi.org/simple, https://us-python.pkg.dev/colab-wheels/public/simple/\n",
            "Collecting autoPyTorch[forecasting]\n",
            "  Using cached autoPyTorch-0.2.1-py3-none-any.whl (711 kB)\n",
            "Requirement already satisfied: dask in /usr/local/lib/python3.7/dist-packages (from autoPyTorch[forecasting]) (2022.2.0)\n",
            "Requirement already satisfied: tabulate in /usr/local/lib/python3.7/dist-packages (from autoPyTorch[forecasting]) (0.8.10)\n",
            "Collecting scikit-learn<0.25.0,>=0.24.0\n",
            "  Downloading scikit_learn-0.24.2-cp37-cp37m-manylinux2010_x86_64.whl (22.3 MB)\n",
            "\u001b[K     |████████████████████████████████| 22.3 MB 32.1 MB/s \n",
            "\u001b[?25hRequirement already satisfied: imgaug>=0.4.0 in /usr/local/lib/python3.7/dist-packages (from autoPyTorch[forecasting]) (0.4.0)\n",
            "Collecting smac>=1.2\n",
            "  Using cached smac-1.4.0.tar.gz (202 kB)\n",
            "  Installing build dependencies ... \u001b[?25l\u001b[?25hdone\n",
            "  Getting requirements to build wheel ... \u001b[?25l\u001b[?25hdone\n",
            "    Preparing wheel metadata ... \u001b[?25l\u001b[?25hdone\n",
            "Collecting pyrfr<0.9,>=0.7\n",
            "  Using cached pyrfr-0.8.3-cp37-cp37m-manylinux_2_17_x86_64.manylinux2014_x86_64.whl (4.4 MB)\n",
            "Requirement already satisfied: pandas in /usr/local/lib/python3.7/dist-packages (from autoPyTorch[forecasting]) (1.3.5)\n",
            "Collecting flaky\n",
            "  Using cached flaky-3.7.0-py2.py3-none-any.whl (22 kB)\n",
            "Collecting lockfile\n",
            "  Using cached lockfile-0.12.2-py2.py3-none-any.whl (13 kB)\n",
            "Requirement already satisfied: torch>=1.10.1 in /usr/local/lib/python3.7/dist-packages (from autoPyTorch[forecasting]) (1.12.1+cu113)\n",
            "Requirement already satisfied: distributed>=2.2.0 in /usr/local/lib/python3.7/dist-packages (from autoPyTorch[forecasting]) (2022.2.0)\n",
            "Collecting pynisher>=0.6.3\n",
            "  Using cached pynisher-1.0.0.tar.gz (30 kB)\n",
            "  Installing build dependencies ... \u001b[?25l\u001b[?25hdone\n",
            "  Getting requirements to build wheel ... \u001b[?25l\u001b[?25hdone\n",
            "  Installing backend dependencies ... \u001b[?25l\u001b[?25hdone\n",
            "    Preparing wheel metadata ... \u001b[?25l\u001b[?25hdone\n",
            "Requirement already satisfied: tensorboard in /usr/local/lib/python3.7/dist-packages (from autoPyTorch[forecasting]) (2.9.1)\n",
            "Collecting ConfigSpace>=0.5.0\n",
            "  Using cached ConfigSpace-0.6.0-cp37-cp37m-manylinux_2_17_x86_64.manylinux2014_x86_64.whl (4.9 MB)\n",
            "Requirement already satisfied: torchvision in /usr/local/lib/python3.7/dist-packages (from autoPyTorch[forecasting]) (0.13.1+cu113)\n",
            "Requirement already satisfied: lightgbm in /usr/local/lib/python3.7/dist-packages (from autoPyTorch[forecasting]) (2.2.3)\n",
            "Requirement already satisfied: numpy in /usr/local/lib/python3.7/dist-packages (from autoPyTorch[forecasting]) (1.21.6)\n",
            "Requirement already satisfied: scipy>=1.7 in /usr/local/lib/python3.7/dist-packages (from autoPyTorch[forecasting]) (1.7.3)\n",
            "Collecting catboost\n",
            "  Downloading catboost-1.1.1-cp37-none-manylinux1_x86_64.whl (76.6 MB)\n",
            "\u001b[K     |████████████████████████████████| 76.6 MB 1.3 MB/s \n",
            "\u001b[?25hCollecting pytorch-forecasting\n",
            "  Downloading pytorch_forecasting-0.10.1-py3-none-any.whl (127 kB)\n",
            "\u001b[K     |████████████████████████████████| 127 kB 38.9 MB/s \n",
            "\u001b[?25hCollecting gluonts>=0.10.0\n",
            "  Downloading gluonts-0.11.1-py3-none-any.whl (1.0 MB)\n",
            "\u001b[K     |████████████████████████████████| 1.0 MB 43.4 MB/s \n",
            "\u001b[?25hRequirement already satisfied: sktime in /usr/local/lib/python3.7/dist-packages (from autoPyTorch[forecasting]) (0.13.4)\n",
            "Requirement already satisfied: pyparsing in /usr/local/lib/python3.7/dist-packages (from ConfigSpace>=0.5.0->autoPyTorch[forecasting]) (3.0.9)\n",
            "Requirement already satisfied: typing-extensions in /usr/local/lib/python3.7/dist-packages (from ConfigSpace>=0.5.0->autoPyTorch[forecasting]) (4.1.1)\n",
            "Requirement already satisfied: cython in /usr/local/lib/python3.7/dist-packages (from ConfigSpace>=0.5.0->autoPyTorch[forecasting]) (0.29.32)\n",
            "Requirement already satisfied: setuptools in /usr/local/lib/python3.7/dist-packages (from distributed>=2.2.0->autoPyTorch[forecasting]) (57.4.0)\n",
            "Requirement already satisfied: click>=6.6 in /usr/local/lib/python3.7/dist-packages (from distributed>=2.2.0->autoPyTorch[forecasting]) (7.1.2)\n",
            "Requirement already satisfied: jinja2 in /usr/local/lib/python3.7/dist-packages (from distributed>=2.2.0->autoPyTorch[forecasting]) (2.11.3)\n",
            "Requirement already satisfied: tornado>=5 in /usr/local/lib/python3.7/dist-packages (from distributed>=2.2.0->autoPyTorch[forecasting]) (5.1.1)\n",
            "Requirement already satisfied: zict>=0.1.3 in /usr/local/lib/python3.7/dist-packages (from distributed>=2.2.0->autoPyTorch[forecasting]) (2.2.0)\n",
            "Requirement already satisfied: cloudpickle>=1.5.0 in /usr/local/lib/python3.7/dist-packages (from distributed>=2.2.0->autoPyTorch[forecasting]) (1.5.0)\n",
            "Requirement already satisfied: msgpack>=0.6.0 in /usr/local/lib/python3.7/dist-packages (from distributed>=2.2.0->autoPyTorch[forecasting]) (1.0.4)\n",
            "Requirement already satisfied: psutil>=5.0 in /usr/local/lib/python3.7/dist-packages (from distributed>=2.2.0->autoPyTorch[forecasting]) (5.4.8)\n",
            "Requirement already satisfied: tblib>=1.6.0 in /usr/local/lib/python3.7/dist-packages (from distributed>=2.2.0->autoPyTorch[forecasting]) (1.7.0)\n",
            "Requirement already satisfied: sortedcontainers!=2.0.0,!=2.0.1 in /usr/local/lib/python3.7/dist-packages (from distributed>=2.2.0->autoPyTorch[forecasting]) (2.4.0)\n",
            "Requirement already satisfied: packaging>=20.0 in /usr/local/lib/python3.7/dist-packages (from distributed>=2.2.0->autoPyTorch[forecasting]) (21.3)\n",
            "Requirement already satisfied: toolz>=0.8.2 in /usr/local/lib/python3.7/dist-packages (from distributed>=2.2.0->autoPyTorch[forecasting]) (0.12.0)\n",
            "Requirement already satisfied: pyyaml in /usr/local/lib/python3.7/dist-packages (from distributed>=2.2.0->autoPyTorch[forecasting]) (6.0)\n",
            "Requirement already satisfied: partd>=0.3.10 in /usr/local/lib/python3.7/dist-packages (from dask->autoPyTorch[forecasting]) (1.3.0)\n",
            "Requirement already satisfied: fsspec>=0.6.0 in /usr/local/lib/python3.7/dist-packages (from dask->autoPyTorch[forecasting]) (2022.10.0)\n",
            "Requirement already satisfied: tqdm~=4.23 in /usr/local/lib/python3.7/dist-packages (from gluonts>=0.10.0->autoPyTorch[forecasting]) (4.64.1)\n",
            "Requirement already satisfied: pydantic~=1.7 in /usr/local/lib/python3.7/dist-packages (from gluonts>=0.10.0->autoPyTorch[forecasting]) (1.10.2)\n",
            "Requirement already satisfied: six in /usr/local/lib/python3.7/dist-packages (from imgaug>=0.4.0->autoPyTorch[forecasting]) (1.15.0)\n",
            "Requirement already satisfied: scikit-image>=0.14.2 in /usr/local/lib/python3.7/dist-packages (from imgaug>=0.4.0->autoPyTorch[forecasting]) (0.18.3)\n",
            "Requirement already satisfied: matplotlib in /usr/local/lib/python3.7/dist-packages (from imgaug>=0.4.0->autoPyTorch[forecasting]) (3.2.2)\n",
            "Requirement already satisfied: imageio in /usr/local/lib/python3.7/dist-packages (from imgaug>=0.4.0->autoPyTorch[forecasting]) (2.9.0)\n",
            "Requirement already satisfied: Pillow in /usr/local/lib/python3.7/dist-packages (from imgaug>=0.4.0->autoPyTorch[forecasting]) (7.1.2)\n",
            "Requirement already satisfied: Shapely in /usr/local/lib/python3.7/dist-packages (from imgaug>=0.4.0->autoPyTorch[forecasting]) (1.8.5.post1)\n",
            "Requirement already satisfied: opencv-python in /usr/local/lib/python3.7/dist-packages (from imgaug>=0.4.0->autoPyTorch[forecasting]) (4.6.0.66)\n",
            "Requirement already satisfied: pytz>=2017.3 in /usr/local/lib/python3.7/dist-packages (from pandas->autoPyTorch[forecasting]) (2022.5)\n",
            "Requirement already satisfied: python-dateutil>=2.7.3 in /usr/local/lib/python3.7/dist-packages (from pandas->autoPyTorch[forecasting]) (2.8.2)\n",
            "Requirement already satisfied: locket in /usr/local/lib/python3.7/dist-packages (from partd>=0.3.10->dask->autoPyTorch[forecasting]) (1.0.0)\n",
            "Requirement already satisfied: networkx>=2.0 in /usr/local/lib/python3.7/dist-packages (from scikit-image>=0.14.2->imgaug>=0.4.0->autoPyTorch[forecasting]) (2.6.3)\n",
            "Requirement already satisfied: tifffile>=2019.7.26 in /usr/local/lib/python3.7/dist-packages (from scikit-image>=0.14.2->imgaug>=0.4.0->autoPyTorch[forecasting]) (2021.11.2)\n",
            "Requirement already satisfied: PyWavelets>=1.1.1 in /usr/local/lib/python3.7/dist-packages (from scikit-image>=0.14.2->imgaug>=0.4.0->autoPyTorch[forecasting]) (1.3.0)\n",
            "Requirement already satisfied: cycler>=0.10 in /usr/local/lib/python3.7/dist-packages (from matplotlib->imgaug>=0.4.0->autoPyTorch[forecasting]) (0.11.0)\n",
            "Requirement already satisfied: kiwisolver>=1.0.1 in /usr/local/lib/python3.7/dist-packages (from matplotlib->imgaug>=0.4.0->autoPyTorch[forecasting]) (1.4.4)\n",
            "Requirement already satisfied: joblib>=0.11 in /usr/local/lib/python3.7/dist-packages (from scikit-learn<0.25.0,>=0.24.0->autoPyTorch[forecasting]) (1.2.0)\n",
            "Requirement already satisfied: threadpoolctl>=2.0.0 in /usr/local/lib/python3.7/dist-packages (from scikit-learn<0.25.0,>=0.24.0->autoPyTorch[forecasting]) (3.1.0)\n",
            "Requirement already satisfied: regex in /usr/local/lib/python3.7/dist-packages (from smac>=1.2->autoPyTorch[forecasting]) (2022.6.2)\n",
            "Collecting pynisher>=0.6.3\n",
            "  Downloading pynisher-0.6.4.tar.gz (11 kB)\n",
            "Collecting emcee>=3.0.0\n",
            "  Downloading emcee-3.1.3-py2.py3-none-any.whl (46 kB)\n",
            "\u001b[K     |████████████████████████████████| 46 kB 3.4 MB/s \n",
            "\u001b[?25hRequirement already satisfied: heapdict in /usr/local/lib/python3.7/dist-packages (from zict>=0.1.3->distributed>=2.2.0->autoPyTorch[forecasting]) (1.0.1)\n",
            "Requirement already satisfied: plotly in /usr/local/lib/python3.7/dist-packages (from catboost->autoPyTorch[forecasting]) (5.5.0)\n",
            "Requirement already satisfied: graphviz in /usr/local/lib/python3.7/dist-packages (from catboost->autoPyTorch[forecasting]) (0.10.1)\n",
            "Requirement already satisfied: MarkupSafe>=0.23 in /usr/local/lib/python3.7/dist-packages (from jinja2->distributed>=2.2.0->autoPyTorch[forecasting]) (2.0.1)\n",
            "Requirement already satisfied: tenacity>=6.2.0 in /usr/local/lib/python3.7/dist-packages (from plotly->catboost->autoPyTorch[forecasting]) (8.1.0)\n",
            "Collecting optuna<3.0.0,>=2.3.0\n",
            "  Downloading optuna-2.10.1-py3-none-any.whl (308 kB)\n",
            "\u001b[K     |████████████████████████████████| 308 kB 56.1 MB/s \n",
            "\u001b[?25hRequirement already satisfied: statsmodels in /usr/local/lib/python3.7/dist-packages (from pytorch-forecasting->autoPyTorch[forecasting]) (0.12.2)\n",
            "Collecting pytorch-lightning<2.0.0,>=1.2.4\n",
            "  Downloading pytorch_lightning-1.8.0.post1-py3-none-any.whl (796 kB)\n",
            "\u001b[K     |████████████████████████████████| 796 kB 53.9 MB/s \n",
            "\u001b[?25hCollecting colorlog\n",
            "  Downloading colorlog-6.7.0-py2.py3-none-any.whl (11 kB)\n",
            "Collecting cliff\n",
            "  Downloading cliff-3.10.1-py3-none-any.whl (81 kB)\n",
            "\u001b[K     |████████████████████████████████| 81 kB 8.4 MB/s \n",
            "\u001b[?25hCollecting alembic\n",
            "  Downloading alembic-1.8.1-py3-none-any.whl (209 kB)\n",
            "\u001b[K     |████████████████████████████████| 209 kB 70.0 MB/s \n",
            "\u001b[?25hCollecting cmaes>=0.8.2\n",
            "  Downloading cmaes-0.8.2-py3-none-any.whl (15 kB)\n",
            "Requirement already satisfied: sqlalchemy>=1.1.0 in /usr/local/lib/python3.7/dist-packages (from optuna<3.0.0,>=2.3.0->pytorch-forecasting->autoPyTorch[forecasting]) (1.4.42)\n",
            "Collecting torchmetrics>=0.7.0\n",
            "  Downloading torchmetrics-0.10.2-py3-none-any.whl (529 kB)\n",
            "\u001b[K     |████████████████████████████████| 529 kB 58.3 MB/s \n",
            "\u001b[?25hCollecting lightning-lite==1.8.0.post1\n",
            "  Downloading lightning_lite-1.8.0.post1-py3-none-any.whl (136 kB)\n",
            "\u001b[K     |████████████████████████████████| 136 kB 55.5 MB/s \n",
            "\u001b[?25hCollecting lightning-utilities==0.3.*\n",
            "  Downloading lightning_utilities-0.3.0-py3-none-any.whl (15 kB)\n",
            "Collecting fire\n",
            "  Downloading fire-0.4.0.tar.gz (87 kB)\n",
            "\u001b[K     |████████████████████████████████| 87 kB 7.0 MB/s \n",
            "\u001b[?25hRequirement already satisfied: aiohttp!=4.0.0a0,!=4.0.0a1 in /usr/local/lib/python3.7/dist-packages (from fsspec>=0.6.0->dask->autoPyTorch[forecasting]) (3.8.3)\n",
            "Requirement already satisfied: requests in /usr/local/lib/python3.7/dist-packages (from fsspec>=0.6.0->dask->autoPyTorch[forecasting]) (2.23.0)\n",
            "Requirement already satisfied: frozenlist>=1.1.1 in /usr/local/lib/python3.7/dist-packages (from aiohttp!=4.0.0a0,!=4.0.0a1->fsspec>=0.6.0->dask->autoPyTorch[forecasting]) (1.3.1)\n",
            "Requirement already satisfied: attrs>=17.3.0 in /usr/local/lib/python3.7/dist-packages (from aiohttp!=4.0.0a0,!=4.0.0a1->fsspec>=0.6.0->dask->autoPyTorch[forecasting]) (22.1.0)\n",
            "Requirement already satisfied: aiosignal>=1.1.2 in /usr/local/lib/python3.7/dist-packages (from aiohttp!=4.0.0a0,!=4.0.0a1->fsspec>=0.6.0->dask->autoPyTorch[forecasting]) (1.2.0)\n",
            "Requirement already satisfied: yarl<2.0,>=1.0 in /usr/local/lib/python3.7/dist-packages (from aiohttp!=4.0.0a0,!=4.0.0a1->fsspec>=0.6.0->dask->autoPyTorch[forecasting]) (1.8.1)\n",
            "Requirement already satisfied: asynctest==0.13.0 in /usr/local/lib/python3.7/dist-packages (from aiohttp!=4.0.0a0,!=4.0.0a1->fsspec>=0.6.0->dask->autoPyTorch[forecasting]) (0.13.0)\n",
            "Requirement already satisfied: multidict<7.0,>=4.5 in /usr/local/lib/python3.7/dist-packages (from aiohttp!=4.0.0a0,!=4.0.0a1->fsspec>=0.6.0->dask->autoPyTorch[forecasting]) (6.0.2)\n",
            "Requirement already satisfied: async-timeout<5.0,>=4.0.0a3 in /usr/local/lib/python3.7/dist-packages (from aiohttp!=4.0.0a0,!=4.0.0a1->fsspec>=0.6.0->dask->autoPyTorch[forecasting]) (4.0.2)\n",
            "Requirement already satisfied: charset-normalizer<3.0,>=2.0 in /usr/local/lib/python3.7/dist-packages (from aiohttp!=4.0.0a0,!=4.0.0a1->fsspec>=0.6.0->dask->autoPyTorch[forecasting]) (2.1.1)\n",
            "Requirement already satisfied: greenlet!=0.4.17 in /usr/local/lib/python3.7/dist-packages (from sqlalchemy>=1.1.0->optuna<3.0.0,>=2.3.0->pytorch-forecasting->autoPyTorch[forecasting]) (1.1.3.post0)\n",
            "Requirement already satisfied: importlib-metadata in /usr/local/lib/python3.7/dist-packages (from sqlalchemy>=1.1.0->optuna<3.0.0,>=2.3.0->pytorch-forecasting->autoPyTorch[forecasting]) (4.13.0)\n",
            "Requirement already satisfied: wheel>=0.26 in /usr/local/lib/python3.7/dist-packages (from tensorboard->autoPyTorch[forecasting]) (0.37.1)\n",
            "Requirement already satisfied: grpcio>=1.24.3 in /usr/local/lib/python3.7/dist-packages (from tensorboard->autoPyTorch[forecasting]) (1.50.0)\n",
            "Requirement already satisfied: werkzeug>=1.0.1 in /usr/local/lib/python3.7/dist-packages (from tensorboard->autoPyTorch[forecasting]) (1.0.1)\n",
            "Requirement already satisfied: absl-py>=0.4 in /usr/local/lib/python3.7/dist-packages (from tensorboard->autoPyTorch[forecasting]) (1.3.0)\n",
            "Requirement already satisfied: markdown>=2.6.8 in /usr/local/lib/python3.7/dist-packages (from tensorboard->autoPyTorch[forecasting]) (3.4.1)\n",
            "Requirement already satisfied: tensorboard-plugin-wit>=1.6.0 in /usr/local/lib/python3.7/dist-packages (from tensorboard->autoPyTorch[forecasting]) (1.8.1)\n",
            "Requirement already satisfied: google-auth-oauthlib<0.5,>=0.4.1 in /usr/local/lib/python3.7/dist-packages (from tensorboard->autoPyTorch[forecasting]) (0.4.6)\n",
            "Requirement already satisfied: google-auth<3,>=1.6.3 in /usr/local/lib/python3.7/dist-packages (from tensorboard->autoPyTorch[forecasting]) (1.35.0)\n",
            "Requirement already satisfied: tensorboard-data-server<0.7.0,>=0.6.0 in /usr/local/lib/python3.7/dist-packages (from tensorboard->autoPyTorch[forecasting]) (0.6.1)\n",
            "Requirement already satisfied: protobuf<3.20,>=3.9.2 in /usr/local/lib/python3.7/dist-packages (from tensorboard->autoPyTorch[forecasting]) (3.17.3)\n",
            "Requirement already satisfied: pyasn1-modules>=0.2.1 in /usr/local/lib/python3.7/dist-packages (from google-auth<3,>=1.6.3->tensorboard->autoPyTorch[forecasting]) (0.2.8)\n",
            "Requirement already satisfied: cachetools<5.0,>=2.0.0 in /usr/local/lib/python3.7/dist-packages (from google-auth<3,>=1.6.3->tensorboard->autoPyTorch[forecasting]) (4.2.4)\n",
            "Requirement already satisfied: rsa<5,>=3.1.4 in /usr/local/lib/python3.7/dist-packages (from google-auth<3,>=1.6.3->tensorboard->autoPyTorch[forecasting]) (4.9)\n",
            "Requirement already satisfied: requests-oauthlib>=0.7.0 in /usr/local/lib/python3.7/dist-packages (from google-auth-oauthlib<0.5,>=0.4.1->tensorboard->autoPyTorch[forecasting]) (1.3.1)\n",
            "Requirement already satisfied: zipp>=0.5 in /usr/local/lib/python3.7/dist-packages (from importlib-metadata->sqlalchemy>=1.1.0->optuna<3.0.0,>=2.3.0->pytorch-forecasting->autoPyTorch[forecasting]) (3.10.0)\n",
            "Requirement already satisfied: pyasn1<0.5.0,>=0.4.6 in /usr/local/lib/python3.7/dist-packages (from pyasn1-modules>=0.2.1->google-auth<3,>=1.6.3->tensorboard->autoPyTorch[forecasting]) (0.4.8)\n",
            "Requirement already satisfied: chardet<4,>=3.0.2 in /usr/local/lib/python3.7/dist-packages (from requests->fsspec>=0.6.0->dask->autoPyTorch[forecasting]) (3.0.4)\n",
            "Requirement already satisfied: certifi>=2017.4.17 in /usr/local/lib/python3.7/dist-packages (from requests->fsspec>=0.6.0->dask->autoPyTorch[forecasting]) (2022.9.24)\n",
            "Requirement already satisfied: urllib3!=1.25.0,!=1.25.1,<1.26,>=1.21.1 in /usr/local/lib/python3.7/dist-packages (from requests->fsspec>=0.6.0->dask->autoPyTorch[forecasting]) (1.24.3)\n",
            "Requirement already satisfied: idna<3,>=2.5 in /usr/local/lib/python3.7/dist-packages (from requests->fsspec>=0.6.0->dask->autoPyTorch[forecasting]) (2.10)\n",
            "Requirement already satisfied: oauthlib>=3.0.0 in /usr/local/lib/python3.7/dist-packages (from requests-oauthlib>=0.7.0->google-auth-oauthlib<0.5,>=0.4.1->tensorboard->autoPyTorch[forecasting]) (3.2.2)\n",
            "Requirement already satisfied: importlib-resources in /usr/local/lib/python3.7/dist-packages (from alembic->optuna<3.0.0,>=2.3.0->pytorch-forecasting->autoPyTorch[forecasting]) (5.10.0)\n",
            "Collecting Mako\n",
            "  Downloading Mako-1.2.3-py3-none-any.whl (78 kB)\n",
            "\u001b[K     |████████████████████████████████| 78 kB 7.0 MB/s \n",
            "\u001b[?25hCollecting stevedore>=2.0.1\n",
            "  Downloading stevedore-3.5.2-py3-none-any.whl (50 kB)\n",
            "\u001b[K     |████████████████████████████████| 50 kB 5.6 MB/s \n",
            "\u001b[?25hCollecting pbr!=2.1.0,>=2.0.0\n",
            "  Downloading pbr-5.11.0-py2.py3-none-any.whl (112 kB)\n",
            "\u001b[K     |████████████████████████████████| 112 kB 50.2 MB/s \n",
            "\u001b[?25hCollecting autopage>=0.4.0\n",
            "  Downloading autopage-0.5.1-py3-none-any.whl (29 kB)\n",
            "Requirement already satisfied: PrettyTable>=0.7.2 in /usr/local/lib/python3.7/dist-packages (from cliff->optuna<3.0.0,>=2.3.0->pytorch-forecasting->autoPyTorch[forecasting]) (3.4.1)\n",
            "Collecting cmd2>=1.0.0\n",
            "  Downloading cmd2-2.4.2-py3-none-any.whl (147 kB)\n",
            "\u001b[K     |████████████████████████████████| 147 kB 38.8 MB/s \n",
            "\u001b[?25hRequirement already satisfied: wcwidth>=0.1.7 in /usr/local/lib/python3.7/dist-packages (from cmd2>=1.0.0->cliff->optuna<3.0.0,>=2.3.0->pytorch-forecasting->autoPyTorch[forecasting]) (0.2.5)\n",
            "Collecting pyperclip>=1.6\n",
            "  Downloading pyperclip-1.8.2.tar.gz (20 kB)\n",
            "Requirement already satisfied: termcolor in /usr/local/lib/python3.7/dist-packages (from fire->lightning-utilities==0.3.*->pytorch-lightning<2.0.0,>=1.2.4->pytorch-forecasting->autoPyTorch[forecasting]) (2.0.1)\n",
            "Requirement already satisfied: deprecated>=1.2.13 in /usr/local/lib/python3.7/dist-packages (from sktime->autoPyTorch[forecasting]) (1.2.13)\n",
            "Requirement already satisfied: numba>=0.53 in /usr/local/lib/python3.7/dist-packages (from sktime->autoPyTorch[forecasting]) (0.56.3)\n",
            "Requirement already satisfied: wrapt<2,>=1.10 in /usr/local/lib/python3.7/dist-packages (from deprecated>=1.2.13->sktime->autoPyTorch[forecasting]) (1.14.1)\n",
            "Requirement already satisfied: llvmlite<0.40,>=0.39.0dev0 in /usr/local/lib/python3.7/dist-packages (from numba>=0.53->sktime->autoPyTorch[forecasting]) (0.39.1)\n",
            "Requirement already satisfied: patsy>=0.5 in /usr/local/lib/python3.7/dist-packages (from statsmodels->pytorch-forecasting->autoPyTorch[forecasting]) (0.5.3)\n",
            "Building wheels for collected packages: smac, pynisher, pyperclip, fire\n",
            "  Building wheel for smac (PEP 517) ... \u001b[?25l\u001b[?25hdone\n",
            "  Created wheel for smac: filename=smac-1.4.0-py3-none-any.whl size=262352 sha256=7b3fa5705d44ef9af29cfdeaa52f8b3224271471559362f78524e571464658b3\n",
            "  Stored in directory: /root/.cache/pip/wheels/70/01/53/2247a56ffca60d114637e712cc3f52034bb643cf31551fdfb2\n",
            "  Building wheel for pynisher (setup.py) ... \u001b[?25l\u001b[?25hdone\n",
            "  Created wheel for pynisher: filename=pynisher-0.6.4-py3-none-any.whl size=7043 sha256=f331df20ea975ba734a465828d8a26b49b63b0fc4c0590cc0c45454fc91f02e4\n",
            "  Stored in directory: /root/.cache/pip/wheels/42/71/95/7555ec3253e1ba8add72ae5febf1b015d297f3b73ba296d6f6\n",
            "  Building wheel for pyperclip (setup.py) ... \u001b[?25l\u001b[?25hdone\n",
            "  Created wheel for pyperclip: filename=pyperclip-1.8.2-py3-none-any.whl size=11137 sha256=49d1897fda99cd479d95d641470e7e79f1a69fa7595bad2d791b66cdda4b94f6\n",
            "  Stored in directory: /root/.cache/pip/wheels/9f/18/84/8f69f8b08169c7bae2dde6bd7daf0c19fca8c8e500ee620a28\n",
            "  Building wheel for fire (setup.py) ... \u001b[?25l\u001b[?25hdone\n",
            "  Created wheel for fire: filename=fire-0.4.0-py2.py3-none-any.whl size=115942 sha256=fe4203dfd6a64cb50b9488ad701a82e0c67ee3379f008808f479af8fba055b40\n",
            "  Stored in directory: /root/.cache/pip/wheels/8a/67/fb/2e8a12fa16661b9d5af1f654bd199366799740a85c64981226\n",
            "Successfully built smac pynisher pyperclip fire\n",
            "Installing collected packages: pyperclip, pbr, fire, stevedore, Mako, lightning-utilities, cmd2, autopage, torchmetrics, scikit-learn, pyrfr, pynisher, lightning-lite, emcee, ConfigSpace, colorlog, cmaes, cliff, alembic, smac, pytorch-lightning, optuna, lockfile, flaky, catboost, pytorch-forecasting, gluonts, autoPyTorch\n",
            "  Attempting uninstall: scikit-learn\n",
            "    Found existing installation: scikit-learn 1.0.2\n",
            "    Uninstalling scikit-learn-1.0.2:\n",
            "      Successfully uninstalled scikit-learn-1.0.2\n",
            "\u001b[31mERROR: pip's dependency resolver does not currently take into account all the packages that are installed. This behaviour is the source of the following dependency conflicts.\n",
            "yellowbrick 1.5 requires scikit-learn>=1.0.0, but you have scikit-learn 0.24.2 which is incompatible.\u001b[0m\n",
            "Successfully installed ConfigSpace-0.6.0 Mako-1.2.3 alembic-1.8.1 autoPyTorch-0.2.1 autopage-0.5.1 catboost-1.1.1 cliff-3.10.1 cmaes-0.8.2 cmd2-2.4.2 colorlog-6.7.0 emcee-3.1.3 fire-0.4.0 flaky-3.7.0 gluonts-0.11.1 lightning-lite-1.8.0.post1 lightning-utilities-0.3.0 lockfile-0.12.2 optuna-2.10.1 pbr-5.11.0 pynisher-0.6.4 pyperclip-1.8.2 pyrfr-0.8.3 pytorch-forecasting-0.10.1 pytorch-lightning-1.8.0.post1 scikit-learn-0.24.2 smac-1.4.0 stevedore-3.5.2 torchmetrics-0.10.2\n"
          ]
        },
        {
          "output_type": "display_data",
          "data": {
            "application/vnd.colab-display-data+json": {
              "pip_warning": {
                "packages": [
                  "sklearn"
                ]
              }
            }
          },
          "metadata": {}
        }
      ]
    },
    {
      "cell_type": "code",
      "source": [
        "import os\n",
        "import tempfile as tmp\n",
        "import warnings\n",
        "import copy\n",
        "\n",
        "os.environ['JOBLIB_TEMP_FOLDER'] = tmp.gettempdir()\n",
        "os.environ['OMP_NUM_THREADS'] = '1'\n",
        "os.environ['OPENBLAS_NUM_THREADS'] = '1'\n",
        "os.environ['MKL_NUM_THREADS'] = '1'\n",
        "\n",
        "warnings.simplefilter(action='ignore', category=UserWarning)\n",
        "warnings.simplefilter(action='ignore', category=FutureWarning)\n",
        "\n",
        "from sktime.datasets import load_longley\n",
        "targets, features = load_longley()\n",
        "\n",
        "forecasting_horizon = 3\n",
        "\n",
        "# Dataset optimized by APT-TS can be a list of np.ndarray/ pd.DataFrame where each series represents an element in the\n",
        "# list, or a single pd.DataFrame that records the series\n",
        "# index information: to which series the timestep belongs? This id can be stored as the DataFrame's index or a separate\n",
        "# column\n",
        "# Within each series, we take the last forecasting_horizon as test targets. The items before that as training targets\n",
        "# Normally the value to be forecasted should follow the training sets\n",
        "y_train = [targets[: -forecasting_horizon]]\n",
        "y_test = [targets[-forecasting_horizon:]]\n",
        "\n",
        "# same for features. For uni-variant models, X_train, X_test can be omitted and set as None\n",
        "X_train = [features[: -forecasting_horizon]]\n",
        "# Here x_test indicates the 'known future features': they are the features known previously, features that are unknown\n",
        "# could be replaced with NAN or zeros (which will not be used by our networks). If no feature is known beforehand,\n",
        "# we could also omit X_test\n",
        "known_future_features = list(features.columns)\n",
        "X_test = [features[-forecasting_horizon:]]\n",
        "\n",
        "start_times = [targets.index.to_timestamp()[0]]\n",
        "freq = '1Y'\n",
        "\n",
        "from autoPyTorch.api.time_series_forecasting import TimeSeriesForecastingTask"
      ],
      "metadata": {
        "id": "Jx8gryzxqxUY"
      },
      "execution_count": null,
      "outputs": []
    },
    {
      "cell_type": "code",
      "source": [
        "print(known_future_features)"
      ],
      "metadata": {
        "colab": {
          "base_uri": "https://localhost:8080/"
        },
        "id": "IoQRLNmRrA5F",
        "outputId": "bcf2b983-27d7-45ec-f4da-f67489af8708"
      },
      "execution_count": null,
      "outputs": [
        {
          "output_type": "stream",
          "name": "stdout",
          "text": [
            "['GNPDEFL', 'GNP', 'UNEMP', 'ARMED', 'POP']\n"
          ]
        }
      ]
    },
    {
      "cell_type": "code",
      "source": [
        "print(targets)\n",
        "print(type(targets))\n",
        "print(features)\n",
        "print(start_times)"
      ],
      "metadata": {
        "colab": {
          "base_uri": "https://localhost:8080/"
        },
        "id": "j1CEoJpehHwy",
        "outputId": "88fae216-64ad-4590-8f4d-4435a503097a"
      },
      "execution_count": null,
      "outputs": [
        {
          "output_type": "stream",
          "name": "stdout",
          "text": [
            "Period\n",
            "1947    60323.0\n",
            "1948    61122.0\n",
            "1949    60171.0\n",
            "1950    61187.0\n",
            "1951    63221.0\n",
            "1952    63639.0\n",
            "1953    64989.0\n",
            "1954    63761.0\n",
            "1955    66019.0\n",
            "1956    67857.0\n",
            "1957    68169.0\n",
            "1958    66513.0\n",
            "1959    68655.0\n",
            "1960    69564.0\n",
            "1961    69331.0\n",
            "1962    70551.0\n",
            "Freq: A-DEC, Name: TOTEMP, dtype: float64\n",
            "<class 'pandas.core.series.Series'>\n",
            "        GNPDEFL       GNP   UNEMP   ARMED       POP\n",
            "Period                                             \n",
            "1947       83.0  234289.0  2356.0  1590.0  107608.0\n",
            "1948       88.5  259426.0  2325.0  1456.0  108632.0\n",
            "1949       88.2  258054.0  3682.0  1616.0  109773.0\n",
            "1950       89.5  284599.0  3351.0  1650.0  110929.0\n",
            "1951       96.2  328975.0  2099.0  3099.0  112075.0\n",
            "1952       98.1  346999.0  1932.0  3594.0  113270.0\n",
            "1953       99.0  365385.0  1870.0  3547.0  115094.0\n",
            "1954      100.0  363112.0  3578.0  3350.0  116219.0\n",
            "1955      101.2  397469.0  2904.0  3048.0  117388.0\n",
            "1956      104.6  419180.0  2822.0  2857.0  118734.0\n",
            "1957      108.4  442769.0  2936.0  2798.0  120445.0\n",
            "1958      110.8  444546.0  4681.0  2637.0  121950.0\n",
            "1959      112.6  482704.0  3813.0  2552.0  123366.0\n",
            "1960      114.2  502601.0  3931.0  2514.0  125368.0\n",
            "1961      115.7  518173.0  4806.0  2572.0  127852.0\n",
            "1962      116.9  554894.0  4007.0  2827.0  130081.0\n",
            "[Timestamp('1947-01-01 00:00:00', freq='AS-JAN')]\n"
          ]
        }
      ]
    },
    {
      "cell_type": "code",
      "source": [
        "print(y_train[0])"
      ],
      "metadata": {
        "id": "Zwz3ngsBsp2u"
      },
      "execution_count": null,
      "outputs": []
    },
    {
      "cell_type": "code",
      "source": [
        "print(y_test[0])"
      ],
      "metadata": {
        "id": "4_qrG1QStCdU"
      },
      "execution_count": null,
      "outputs": []
    },
    {
      "cell_type": "code",
      "source": [
        "print(targets)"
      ],
      "metadata": {
        "id": "_KgiLGoOtJoO"
      },
      "execution_count": null,
      "outputs": []
    },
    {
      "cell_type": "code",
      "source": [
        "print(features)"
      ],
      "metadata": {
        "id": "SBriJMw8tL_i"
      },
      "execution_count": null,
      "outputs": []
    },
    {
      "cell_type": "code",
      "source": [
        "api = TimeSeriesForecastingTask()"
      ],
      "metadata": {
        "id": "lhZz_IOMzuAW"
      },
      "execution_count": null,
      "outputs": []
    },
    {
      "cell_type": "code",
      "source": [
        "api.search(\n",
        "    X_train=X_train,\n",
        "    y_train=copy.deepcopy(y_train),\n",
        "    X_test=X_test,\n",
        "    optimize_metric='mean_MASE_forecasting',\n",
        "    n_prediction_steps=forecasting_horizon,\n",
        "    memory_limit=16 * 1024,   # Currently, forecasting models use much more memories\n",
        "    freq=freq,\n",
        "    start_times=start_times,\n",
        "    func_eval_time_limit_secs=50,\n",
        "    total_walltime_limit=500,\n",
        "    min_num_test_instances=1000,  # proxy validation sets. This only works for the tasks with more than 1000 series\n",
        "    known_future_features=known_future_features,\n",
        ")\n",
        "\n",
        "\n",
        "from autoPyTorch.datasets.time_series_dataset import TimeSeriesSequence\n",
        "\n",
        "test_sets = []\n",
        "\n",
        "# We could construct test sets from scratch\n",
        "for feature, future_feature, target, start_time in zip(X_train, X_test,y_train, start_times):\n",
        "    test_sets.append(\n",
        "        TimeSeriesSequence(X=feature.values,\n",
        "                           Y=target.values,\n",
        "                           X_test=future_feature.values,\n",
        "                           start_time=start_time,\n",
        "                           is_test_set=True,\n",
        "                           # additional information required to construct a new time series sequence\n",
        "                           **api.dataset.sequences_builder_kwargs\n",
        "                           )\n",
        "    )\n",
        "# Alternatively, if we only want to forecast the value after the X_train, we could directly ask datamanager to\n",
        "# generate a test set:\n",
        "# test_sets2 = api.dataset.generate_test_seqs()\n",
        "\n",
        "pred = api.predict(test_sets)"
      ],
      "metadata": {
        "id": "qyFMfCqLzxdi"
      },
      "execution_count": null,
      "outputs": []
    },
    {
      "cell_type": "code",
      "source": [
        "from numpy.core.fromnumeric import shape\n",
        "print(\"X\")\n",
        "print(type(X_train))\n",
        "print(shape(X_train))\n",
        "#print(X_train)\n",
        "print(type(X_test))\n",
        "print(X_test)\n",
        "print(shape(X_test))\n",
        "\n",
        "print(\"Y\")\n",
        "print(type(y_train))\n",
        "print(y_train)\n",
        "print(shape(y_train))\n",
        "print(type(y_test))\n",
        "print(y_test)\n",
        "print(shape(y_test))\n",
        "\n",
        "print(known_future_features)\n",
        "print(forecasting_horizon)\n",
        "print(freq)\n",
        "print(start_times)"
      ],
      "metadata": {
        "id": "8NWLuwQFzxlA",
        "colab": {
          "base_uri": "https://localhost:8080/"
        },
        "outputId": "27dd6b6e-754c-4149-8391-870b2a7031c0"
      },
      "execution_count": null,
      "outputs": [
        {
          "output_type": "stream",
          "name": "stdout",
          "text": [
            "X\n",
            "<class 'list'>\n",
            "(1, 13, 5)\n",
            "<class 'list'>\n",
            "[        GNPDEFL       GNP   UNEMP   ARMED       POP\n",
            "Period                                             \n",
            "1960      114.2  502601.0  3931.0  2514.0  125368.0\n",
            "1961      115.7  518173.0  4806.0  2572.0  127852.0\n",
            "1962      116.9  554894.0  4007.0  2827.0  130081.0]\n",
            "(1, 3, 5)\n",
            "Y\n",
            "<class 'list'>\n",
            "[Period\n",
            "1947    60323.0\n",
            "1948    61122.0\n",
            "1949    60171.0\n",
            "1950    61187.0\n",
            "1951    63221.0\n",
            "1952    63639.0\n",
            "1953    64989.0\n",
            "1954    63761.0\n",
            "1955    66019.0\n",
            "1956    67857.0\n",
            "1957    68169.0\n",
            "1958    66513.0\n",
            "1959    68655.0\n",
            "Freq: A-DEC, Name: TOTEMP, dtype: float64]\n",
            "(1, 13)\n",
            "<class 'list'>\n",
            "[Period\n",
            "1960    69564.0\n",
            "1961    69331.0\n",
            "1962    70551.0\n",
            "Freq: A-DEC, Name: TOTEMP, dtype: float64]\n",
            "(1, 3)\n",
            "['GNPDEFL', 'GNP', 'UNEMP', 'ARMED', 'POP']\n",
            "3\n",
            "1Y\n",
            "[Timestamp('1947-01-01 00:00:00', freq='AS-JAN')]\n"
          ]
        }
      ]
    },
    {
      "cell_type": "code",
      "source": [],
      "metadata": {
        "id": "4-XvRHLLzxqY"
      },
      "execution_count": null,
      "outputs": []
    },
    {
      "cell_type": "code",
      "source": [],
      "metadata": {
        "id": "MS3HpMC4zxuY"
      },
      "execution_count": null,
      "outputs": []
    }
  ]
}